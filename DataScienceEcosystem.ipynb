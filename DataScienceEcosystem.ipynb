{
 "cells": [
  {
   "cell_type": "markdown",
   "id": "b9ca5b9e-1048-45cd-b100-e93049fb4971",
   "metadata": {
    "tags": []
   },
   "source": [
    "# Data Science Tools and Ecosystem"
   ]
  },
  {
   "cell_type": "markdown",
   "id": "f89f59df-b291-490e-a000-f770c9a4a982",
   "metadata": {
    "tags": []
   },
   "source": [
    "In this notebook, Data Science Tools and Ecosystem are summarized."
   ]
  },
  {
   "cell_type": "markdown",
   "id": "194ccd30-4492-4907-9200-dac8ac12ddcf",
   "metadata": {},
   "source": [
    "**Objectives:**\n",
    "- List popular languages used in data science\n",
    "- List popular libraries used in data science\n",
    "- Create a table of popular tools for data science\n",
    "- Explain and do some arithmetic expressions"
   ]
  },
  {
   "cell_type": "markdown",
   "id": "4310daaa-93b4-447c-81a3-9c0288630532",
   "metadata": {},
   "source": [
    "Some of the popular languages that Data Scientist use are:\n",
    "\n",
    "1- Python\n",
    "2- R\n",
    "3-  SQL\n",
    "4- Julia\n",
    "5- Java"
   ]
  },
  {
   "cell_type": "markdown",
   "id": "2de1899b-5bab-4b3b-bbe5-c076855a59b3",
   "metadata": {
    "tags": []
   },
   "source": [
    "Some of the commonly used libraries used by Data Scientists include:\n",
    "\n",
    "#### Python: \n",
    "1- Pandas\n",
    "2- NumPy\n",
    "3-Tensorflow\n",
    "\n",
    "#### R\n",
    "1- dplyr\n",
    "2- ggplot2\n",
    "3- caret"
   ]
  },
  {
   "cell_type": "markdown",
   "id": "05758da0-959a-48ba-bdf0-846b7cb585cd",
   "metadata": {},
   "source": [
    "| Data Science Tools |\n",
    "----------------------\n",
    "| Jupyter Notebooks  |\n",
    "|     R Studio       |\n",
    "| Visual Studio Code |"
   ]
  },
  {
   "cell_type": "markdown",
   "id": "e08e791f-90b6-4be4-9ef7-3bae3e9e0a13",
   "metadata": {},
   "source": [
    "\n",
    "### Below are a few examples of evaluating arithmetic expressions in Python"
   ]
  },
  {
   "cell_type": "markdown",
   "id": "c5c6a6b6-8797-46e9-a0ef-2110a779bf6e",
   "metadata": {},
   "source": [
    "\n",
    "This is a simple arithmetic expression to multiply then add integers:"
   ]
  },
  {
   "cell_type": "code",
   "execution_count": 3,
   "id": "9b0d9663-c575-48d5-b24a-7b0e475eb7b4",
   "metadata": {
    "tags": []
   },
   "outputs": [
    {
     "data": {
      "text/plain": [
       "17"
      ]
     },
     "execution_count": 3,
     "metadata": {},
     "output_type": "execute_result"
    }
   ],
   "source": [
    "(3*4)+5"
   ]
  },
  {
   "cell_type": "markdown",
   "id": "a8d13246-16df-45a5-8f3f-a1c5305e9865",
   "metadata": {},
   "source": [
    "\n",
    "This will convert 200 minutes to hours by dividing by 60.\n"
   ]
  },
  {
   "cell_type": "code",
   "execution_count": 4,
   "id": "414c2a0a-a5b1-48d6-9863-ce52f3acead6",
   "metadata": {
    "tags": []
   },
   "outputs": [
    {
     "data": {
      "text/plain": [
       "3.3333333333333335"
      ]
     },
     "execution_count": 4,
     "metadata": {},
     "output_type": "execute_result"
    }
   ],
   "source": [
    "200/60"
   ]
  },
  {
   "cell_type": "markdown",
   "id": "d98958b2-7d9c-4550-9f2a-9bd2e2395efe",
   "metadata": {
    "tags": []
   },
   "source": [
    "\n",
    "\n",
    "## Author: \n",
    "Burak Naiboglu"
   ]
  },
  {
   "cell_type": "code",
   "execution_count": null,
   "id": "2fa60b29-3419-4c57-a4e5-79af097f534b",
   "metadata": {},
   "outputs": [],
   "source": []
  }
 ],
 "metadata": {
  "kernelspec": {
   "display_name": "Python 3 (ipykernel)",
   "language": "python",
   "name": "python3"
  },
  "language_info": {
   "codemirror_mode": {
    "name": "ipython",
    "version": 3
   },
   "file_extension": ".py",
   "mimetype": "text/x-python",
   "name": "python",
   "nbconvert_exporter": "python",
   "pygments_lexer": "ipython3",
   "version": "3.11.5"
  }
 },
 "nbformat": 4,
 "nbformat_minor": 5
}
